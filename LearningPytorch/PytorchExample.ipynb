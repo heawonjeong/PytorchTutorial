{
 "cells": [
  {
   "cell_type": "markdown",
   "metadata": {},
   "source": [
    "## 예제로 배우는 파이토치\n",
    "\n",
    "3차 다항식을 사용하여 y = sin(x)에 근사(fit)하는 문제\n",
    "\n",
    "4개의 매개변수, 정답과 신경망이 예측한 결과 사이의 유클리드 거리를 최소화하여 임의의 값을 근사할 수 있도록 gradient descent를 사용하여 학습함.\n"
   ]
  },
  {
   "cell_type": "code",
   "execution_count": null,
   "metadata": {},
   "outputs": [],
   "source": []
  }
 ],
 "metadata": {
  "language_info": {
   "name": "python"
  }
 },
 "nbformat": 4,
 "nbformat_minor": 2
}
