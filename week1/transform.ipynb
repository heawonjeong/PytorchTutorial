{
 "cells": [
  {
   "cell_type": "markdown",
   "metadata": {},
   "source": [
    "# Transform(변형)\n",
    "\n",
    "이미지를 적절하게 tranform하여 데이터를 조작하고 학습에 적합하게 만든다. \n",
    "\n",
    "모든 TorchVision 데이터셋들은 변형로직을 갖는, 호출가능한 객체를 받는 매개변수 두개(feature를 변경하기 위한 transform, label(정답)을 변경하기 위한 target_transform)를 가짐.\n",
    "torchvision.transforms 모듈은 주로 사용하는 몇가지 transform을 제공한다.\n",
    "\n",
    "\n",
    "FashionMNIST의 feature는 PIL Image 형식, 정답(label)은 integer.\n",
    "학습을 하려면 정규화(normalize)된 텐서형태의 feature와, one hot encode 된 텐서 형태의 label이 필요.\n",
    "\n",
    "ToTensor와 Lambda를 사용"
   ]
  },
  {
   "cell_type": "code",
   "execution_count": 4,
   "metadata": {},
   "outputs": [],
   "source": [
    "import torch\n",
    "from torchvision import datasets\n",
    "from torchvision.transforms import ToTensor, Lambda\n",
    "\n",
    "ds = datasets.FashionMNIST(\n",
    "    root ='data',\n",
    "    train=True,\n",
    "    download=True,\n",
    "    transform=ToTensor(),\n",
    "    target_transform=Lambda(lambda y: torch.zeros(10, dtype=torch.float).scatter_(0, torch.tensor(y), value=1))\n",
    ")\n",
    "\n",
    "# 라벨을 one-hot encoding 형식으로 변환\n",
    "# 주어진 라벨 y에 대해 10차원의 0으로 초기화 된 텐서를 만들고\n",
    "# 해당 라벨 위치에 1을 설정('scatter_' 메소드를 사용하여 해당 인덱스에 1을 배치)"
   ]
  },
  {
   "cell_type": "markdown",
   "metadata": {},
   "source": [
    "## To Tensor()\n",
    "\n",
    "PIL Image나 Numpy ndarray를 FloatTensor로 변환하고 이미지 픽셀의 크기(intensity) 값을 [0., 1.] 범위로 비례하게 조정(scale)\n",
    "\n"
   ]
  }
 ],
 "metadata": {
  "kernelspec": {
   "display_name": "paper",
   "language": "python",
   "name": "python3"
  },
  "language_info": {
   "codemirror_mode": {
    "name": "ipython",
    "version": 3
   },
   "file_extension": ".py",
   "mimetype": "text/x-python",
   "name": "python",
   "nbconvert_exporter": "python",
   "pygments_lexer": "ipython3",
   "version": "3.12.2"
  }
 },
 "nbformat": 4,
 "nbformat_minor": 2
}
