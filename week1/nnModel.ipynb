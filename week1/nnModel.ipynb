{
 "cells": [
  {
   "cell_type": "markdown",
   "metadata": {},
   "source": [
    "# 신경망 모델 구성하기\n",
    "\n",
    "신경망은 데이터에 대한 연산을 수행하는 layer(계층)/module로 구성.\n",
    "\n",
    "torch.nn 네임 스페이스는 신경망을 구성하는데 필요한 모든 구성요소를 제공\n",
    "\n",
    "PyTorch의 모든 모듈은 nn.Module의 subclass, 신경망은 다른 모듈(계층; layer)로 구성된 모듈\n",
    "\n",
    "FashionMNIST 데이터셋의 이미지들을 분류하는 신경망 구성"
   ]
  },
  {
   "cell_type": "code",
   "execution_count": 1,
   "metadata": {},
   "outputs": [],
   "source": [
    "import os\n",
    "import torch\n",
    "from torch import nn\n",
    "from torch.utils.data import DataLoader\n",
    "from torchvision import datasets, transforms"
   ]
  },
  {
   "cell_type": "markdown",
   "metadata": {},
   "source": [
    "## 학습을 위한 장치 얻기\n",
    "\n",
    "torch.cuda 또는 torch.backends.mps가 사용 가능한지 확인, 그렇지 않으면 CPU 사용"
   ]
  },
  {
   "cell_type": "code",
   "execution_count": 2,
   "metadata": {},
   "outputs": [
    {
     "name": "stdout",
     "output_type": "stream",
     "text": [
      "using cuda device\n"
     ]
    }
   ],
   "source": [
    "device = (\n",
    "    'cuda'\n",
    "    if torch.cuda.is_available()\n",
    "    else 'mps'\n",
    "    if torch.backends.mps.is_available()\n",
    "    else 'cpu'\n",
    "\n",
    ")\n",
    "\n",
    "print(f'using {device} device')"
   ]
  },
  {
   "cell_type": "markdown",
   "metadata": {},
   "source": [
    "## 클래스 정의하기\n",
    "\n",
    "신경망 모델을 nn.Module의 하위 클래스로 정의하고, __init__에서 신경망 계층을 초기화\n",
    "nn.Module을 상속받은 모든 클래스는 forward 메소드에 입력 데이터에 대한 연산들을 구현"
   ]
  },
  {
   "cell_type": "code",
   "execution_count": 3,
   "metadata": {},
   "outputs": [],
   "source": [
    "class NeuralNetwork(nn.Module):\n",
    "    def __init__(self):\n",
    "        super().__init__()\n",
    "        self.flatten = nn.Flatten()\n",
    "        self.linear_relu_stack = nn.Sequential(\n",
    "            nn.Linear(28*28, 512),\n",
    "            nn.ReLU(),\n",
    "            nn.Linear(512, 512), \n",
    "            nn.ReLU(),\n",
    "            nn.Linear(512, 10)\n",
    "        )\n",
    "\n",
    "    def forward(self, x):\n",
    "        x = self.flatten(x)\n",
    "        logits = self.linear_relu_stack(x)\n",
    "        return logits\n",
    "    \n"
   ]
  },
  {
   "cell_type": "code",
   "execution_count": 4,
   "metadata": {},
   "outputs": [
    {
     "name": "stdout",
     "output_type": "stream",
     "text": [
      "NeuralNetwork(\n",
      "  (flatten): Flatten(start_dim=1, end_dim=-1)\n",
      "  (linear_relu_stack): Sequential(\n",
      "    (0): Linear(in_features=784, out_features=512, bias=True)\n",
      "    (1): ReLU()\n",
      "    (2): Linear(in_features=512, out_features=512, bias=True)\n",
      "    (3): ReLU()\n",
      "    (4): Linear(in_features=512, out_features=10, bias=True)\n",
      "  )\n",
      ")\n"
     ]
    }
   ],
   "source": [
    "# NeuralNetwork의 인스턴스를 생성하고, 이를 device로 이동한 뒤 구조를 출력\n",
    "\n",
    "model = NeuralNetwork().to(device)\n",
    "print(model)"
   ]
  },
  {
   "cell_type": "markdown",
   "metadata": {},
   "source": [
    "모델을 사용하기 위해 입력 데이터를 전달, 일부 백그라운드 연산들과 함께 모델의 forward를 실행\n",
    "\n",
    "model.forward()를 직접 호출하지 말것!!\n",
    "\n",
    "모델에 입력을 전달하여 호출하면 2차원 텐서를 반환\n",
    "dim=0은 각 class에 대한 raw 예측값 10개\n",
    "dim=1에는 각 출력의 개별값\n",
    "\n",
    "raw 예측값을 nn.Softmax 모듈의 인스턴스에 통과시켜 예측 확률을 얻는다"
   ]
  },
  {
   "cell_type": "code",
   "execution_count": 5,
   "metadata": {},
   "outputs": [
    {
     "name": "stdout",
     "output_type": "stream",
     "text": [
      "tensor([[0.0899, 0.0922, 0.1021, 0.0987, 0.1010, 0.1020, 0.0973, 0.1072, 0.1032,\n",
      "         0.1064]], device='cuda:0', grad_fn=<SoftmaxBackward0>)\n",
      "Predicted class tensor([7], device='cuda:0')\n"
     ]
    }
   ],
   "source": [
    "X =torch.rand(1, 28, 28, device=device)\n",
    "logits = model(X)\n",
    "pred_probab = nn.Softmax(dim=1)(logits)\n",
    "y_pred = pred_probab.argmax(1)\n",
    "\n",
    "print(pred_probab)\n",
    "print(f'Predicted class {y_pred}')"
   ]
  },
  {
   "cell_type": "markdown",
   "metadata": {},
   "source": [
    "## 모델계층(Layer)\n",
    "\n",
    "28x28 크기의 이미지 3개로 구성된 미니배치를 가져와, 신경망을 통과할 때 어떤 일이 발생하는지 알아보자."
   ]
  },
  {
   "cell_type": "code",
   "execution_count": 6,
   "metadata": {},
   "outputs": [
    {
     "name": "stdout",
     "output_type": "stream",
     "text": [
      "torch.Size([3, 28, 28])\n"
     ]
    }
   ],
   "source": [
    "input_image = torch.rand(3, 28, 28)\n",
    "print(input_image.size())"
   ]
  },
  {
   "cell_type": "code",
   "execution_count": 7,
   "metadata": {},
   "outputs": [
    {
     "name": "stdout",
     "output_type": "stream",
     "text": [
      "torch.Size([3, 784])\n"
     ]
    }
   ],
   "source": [
    "# nn.Flatten\n",
    "# nn.Flatten layer를 초기화하여 28x28의 2D 이미지를 784 픽셀 값을 갖는 연속된 배열로 변환\n",
    "# dim=0의 미니배치 차원은 유지\n",
    "\n",
    "flatten = nn.Flatten()\n",
    "flat_image = flatten(input_image)\n",
    "print(flat_image.size())\n"
   ]
  },
  {
   "cell_type": "code",
   "execution_count": 8,
   "metadata": {},
   "outputs": [
    {
     "name": "stdout",
     "output_type": "stream",
     "text": [
      "torch.Size([3, 20])\n"
     ]
    }
   ],
   "source": [
    "# nn.Linear\n",
    "# 선형계층은 저장된 w와 b를 사용하여 입력에 linear transformation을 적용하는 모듈\n",
    "\n",
    "layer1 = nn.Linear(in_features=28*28, out_features=20)\n",
    "hidden1 = layer1(flat_image)\n",
    "print(hidden1.size())"
   ]
  },
  {
   "cell_type": "code",
   "execution_count": 10,
   "metadata": {},
   "outputs": [
    {
     "name": "stdout",
     "output_type": "stream",
     "text": [
      "Before ReLU : tensor([[0.0000, 0.0000, 0.2585, 0.2653, 0.0000, 0.0000, 0.0000, 0.0000, 0.2708,\n",
      "         0.0842, 0.0803, 0.0000, 0.0000, 0.0000, 0.3339, 0.2014, 0.0000, 0.1402,\n",
      "         0.0000, 0.1303],\n",
      "        [0.1966, 0.0000, 0.2322, 0.2467, 0.1103, 0.0000, 0.3313, 0.0000, 0.3870,\n",
      "         0.0000, 0.2018, 0.0000, 0.0000, 0.0333, 0.0000, 0.0393, 0.3073, 0.1930,\n",
      "         0.0000, 0.2852],\n",
      "        [0.1903, 0.0000, 0.4774, 0.2535, 0.0291, 0.0000, 0.4397, 0.0000, 0.4713,\n",
      "         0.1079, 0.1742, 0.0000, 0.0000, 0.0000, 0.1904, 0.0581, 0.0000, 0.2996,\n",
      "         0.0000, 0.4926]], grad_fn=<ReluBackward0>)\n",
      "\n",
      "\n",
      "After ReLU: tensor([[0.0000, 0.0000, 0.2585, 0.2653, 0.0000, 0.0000, 0.0000, 0.0000, 0.2708,\n",
      "         0.0842, 0.0803, 0.0000, 0.0000, 0.0000, 0.3339, 0.2014, 0.0000, 0.1402,\n",
      "         0.0000, 0.1303],\n",
      "        [0.1966, 0.0000, 0.2322, 0.2467, 0.1103, 0.0000, 0.3313, 0.0000, 0.3870,\n",
      "         0.0000, 0.2018, 0.0000, 0.0000, 0.0333, 0.0000, 0.0393, 0.3073, 0.1930,\n",
      "         0.0000, 0.2852],\n",
      "        [0.1903, 0.0000, 0.4774, 0.2535, 0.0291, 0.0000, 0.4397, 0.0000, 0.4713,\n",
      "         0.1079, 0.1742, 0.0000, 0.0000, 0.0000, 0.1904, 0.0581, 0.0000, 0.2996,\n",
      "         0.0000, 0.4926]], grad_fn=<ReluBackward0>)\n",
      "torch.Size([3, 20])\n"
     ]
    }
   ],
   "source": [
    "# nn.ReLU\n",
    "# nonlinear activation은 모델의 입력과 출력 사이에 복잡한 mapping을 만듬\n",
    "# nonlinear activation은 선형변환 후 적용하여 nonlinearity를 도입, 신경망이 다양한 현상을 학습할 수 있도록 함.\n",
    "\n",
    "print(f'Before ReLU : {hidden1}\\n\\n')\n",
    "hidden1 = nn.ReLU()(hidden1)\n",
    "print(f'After ReLU: {hidden1}')\n",
    "print(hidden1.size())"
   ]
  },
  {
   "cell_type": "code",
   "execution_count": 12,
   "metadata": {},
   "outputs": [
    {
     "name": "stdout",
     "output_type": "stream",
     "text": [
      "tensor([[ 0.0150, -0.1959,  0.1142,  0.0267,  0.0263, -0.2524, -0.2711, -0.1311,\n",
      "          0.0241,  0.0339],\n",
      "        [ 0.0979, -0.1355,  0.1628,  0.0073,  0.0696, -0.0865, -0.2349, -0.0038,\n",
      "         -0.0102,  0.1468],\n",
      "        [ 0.1457, -0.0890,  0.0150,  0.0293, -0.0085, -0.2161, -0.2868, -0.0706,\n",
      "          0.0233,  0.1007]], grad_fn=<AddmmBackward0>)\n"
     ]
    }
   ],
   "source": [
    "# nn.Sequential\n",
    "# 순서를 갖는 모듈의 컨테이너\n",
    "# 데이터는 정의된 것과 같은 순서로 모든 모듈들을 통해 전달됨.\n",
    "\n",
    "seq_modules = nn.Sequential(\n",
    "    flatten,\n",
    "    layer1,\n",
    "    nn.ReLU(),\n",
    "    nn.Linear(20, 10)\n",
    ")\n",
    "\n",
    "input_image = torch.rand(3, 28, 28)\n",
    "logits = seq_modules(input_image)\n",
    "print(logits)"
   ]
  },
  {
   "cell_type": "code",
   "execution_count": 14,
   "metadata": {},
   "outputs": [
    {
     "name": "stdout",
     "output_type": "stream",
     "text": [
      "tensor([[0.1070, 0.0866, 0.1182, 0.1083, 0.1082, 0.0819, 0.0804, 0.0925, 0.1080,\n",
      "         0.1090],\n",
      "        [0.1094, 0.0866, 0.1167, 0.0999, 0.1063, 0.0910, 0.0784, 0.0988, 0.0982,\n",
      "         0.1148],\n",
      "        [0.1189, 0.0941, 0.1044, 0.1059, 0.1019, 0.0828, 0.0772, 0.0958, 0.1052,\n",
      "         0.1137]], grad_fn=<SoftmaxBackward0>)\n"
     ]
    }
   ],
   "source": [
    "# nn.Softmax\n",
    "# 신경망의 마지막 선형계층은 nn.Softmax 모듈에 전달될 logits를 반환\n",
    "# logits는 모델의 각 class에 대한 예측 확률을 나타내도록 [0, 1]범위로 비례하여 조정됨.\n",
    "# dim 매개변수는 값의 합이 1이 되는 차원\n",
    "\n",
    "softmax = nn.Softmax(dim=1)\n",
    "pred_probab = softmax(logits)\n",
    "print(pred_probab)"
   ]
  },
  {
   "cell_type": "markdown",
   "metadata": {},
   "source": [
    "## 모델 매개변수\n",
    "\n",
    "신경망 내부의 많은 계층들은 매개변수화(parameterize) 됨.\n",
    "즉 학습중에 최적화 되는 가중치와 편향과 연관지어짐.\n",
    "nn.Module을 상속하면 모델 객체 내부의 모든 필드들이 자동으로 추적,\n",
    "모델의 parameters() 및 named_parameters() 메소드로 모든 매개변수에 접근할 수 있게됨."
   ]
  },
  {
   "cell_type": "code",
   "execution_count": 15,
   "metadata": {},
   "outputs": [
    {
     "name": "stdout",
     "output_type": "stream",
     "text": [
      "Model structure : NeuralNetwork(\n",
      "  (flatten): Flatten(start_dim=1, end_dim=-1)\n",
      "  (linear_relu_stack): Sequential(\n",
      "    (0): Linear(in_features=784, out_features=512, bias=True)\n",
      "    (1): ReLU()\n",
      "    (2): Linear(in_features=512, out_features=512, bias=True)\n",
      "    (3): ReLU()\n",
      "    (4): Linear(in_features=512, out_features=10, bias=True)\n",
      "  )\n",
      ") \n",
      "\n",
      "\n",
      "Layer : linear_relu_stack.0.weight | Size : torch.Size([512, 784]) | Values : tensor([[ 0.0153, -0.0293, -0.0047,  ...,  0.0320, -0.0015,  0.0024],\n",
      "        [ 0.0353,  0.0109, -0.0090,  ..., -0.0263,  0.0278,  0.0250]],\n",
      "       device='cuda:0', grad_fn=<SliceBackward0>) \n",
      " \n",
      "Layer : linear_relu_stack.0.bias | Size : torch.Size([512]) | Values : tensor([ 0.0342, -0.0332], device='cuda:0', grad_fn=<SliceBackward0>) \n",
      " \n",
      "Layer : linear_relu_stack.2.weight | Size : torch.Size([512, 512]) | Values : tensor([[ 0.0049, -0.0420,  0.0009,  ...,  0.0299, -0.0302, -0.0299],\n",
      "        [-0.0200,  0.0035, -0.0098,  ..., -0.0169,  0.0409, -0.0190]],\n",
      "       device='cuda:0', grad_fn=<SliceBackward0>) \n",
      " \n",
      "Layer : linear_relu_stack.2.bias | Size : torch.Size([512]) | Values : tensor([ 0.0209, -0.0362], device='cuda:0', grad_fn=<SliceBackward0>) \n",
      " \n",
      "Layer : linear_relu_stack.4.weight | Size : torch.Size([10, 512]) | Values : tensor([[ 0.0125, -0.0188,  0.0248,  ...,  0.0215, -0.0268,  0.0434],\n",
      "        [-0.0083,  0.0107, -0.0111,  ...,  0.0183, -0.0136, -0.0034]],\n",
      "       device='cuda:0', grad_fn=<SliceBackward0>) \n",
      " \n",
      "Layer : linear_relu_stack.4.bias | Size : torch.Size([10]) | Values : tensor([-0.0428, -0.0160], device='cuda:0', grad_fn=<SliceBackward0>) \n",
      " \n"
     ]
    }
   ],
   "source": [
    "print(f'Model structure : {model} \\n\\n')\n",
    "\n",
    "for name, param in model.named_parameters():\n",
    "    print(f'Layer : {name} | Size : {param.size() } | Values : {param[:2]} \\n ')"
   ]
  }
 ],
 "metadata": {
  "kernelspec": {
   "display_name": "paper",
   "language": "python",
   "name": "python3"
  },
  "language_info": {
   "codemirror_mode": {
    "name": "ipython",
    "version": 3
   },
   "file_extension": ".py",
   "mimetype": "text/x-python",
   "name": "python",
   "nbconvert_exporter": "python",
   "pygments_lexer": "ipython3",
   "version": "3.12.2"
  }
 },
 "nbformat": 4,
 "nbformat_minor": 2
}
